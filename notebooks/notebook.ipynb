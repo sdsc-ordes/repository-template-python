{
 "cells": [
  {
   "cell_type": "markdown",
   "id": "238b20df-b5e0-43e9-ade4-06a0c69bff6b",
   "metadata": {},
   "source": [
    "# Welcome\n",
    "\n",
    "This is your demo notebook for all your python prototyping needs."
   ]
  },
  {
   "cell_type": "code",
   "execution_count": 1,
   "id": "ca8f7fdf-a5d3-4589-ba9c-5ddac5f5e61c",
   "metadata": {},
   "outputs": [
    {
     "name": "stdout",
     "output_type": "stream",
     "text": [
      "1.826086956521739\n"
     ]
    }
   ],
   "source": [
    "print(42/23)"
   ]
  }
 ],
 "metadata": {
  "kernelspec": {
   "display_name": "Python 3 (ipykernel)",
   "language": "python",
   "name": "python3"
  },
  "language_info": {
   "codemirror_mode": {
    "name": "ipython",
    "version": 3
   },
   "file_extension": ".py",
   "mimetype": "text/x-python",
   "name": "python",
   "nbconvert_exporter": "python",
   "pygments_lexer": "ipython3",
   "version": "3.13.1"
  }
 },
 "nbformat": 4,
 "nbformat_minor": 5
}
